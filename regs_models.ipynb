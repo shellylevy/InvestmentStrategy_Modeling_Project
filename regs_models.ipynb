{
 "cells": [
  {
   "cell_type": "code",
   "execution_count": 9,
   "id": "a8a812c8",
   "metadata": {},
   "outputs": [],
   "source": [
    "from sklearn.model_selection import cross_val_score, train_test_split, KFold\n",
    "from sklearn.pipeline import make_pipeline\n",
    "from sklearn.linear_model import LinearRegression, LogisticRegression, SGDClassifier\n",
    "from sklearn.preprocessing import OneHotEncoder, MinMaxScaler, StandardScaler, PolynomialFeatures, RobustScaler\n",
    "from sklearn.feature_selection import mutual_info_classif\n",
    "from sklearn.metrics import mean_squared_error, r2_score, f1_score, recall_score, precision_score, accuracy_score\n",
    "import pandas as pd\n",
    "import matplotlib.pyplot as plt\n",
    "import numpy as np\n",
    "import seaborn as sns\n",
    "import scipy.stats as stats\n",
    "import category_encoders as ce\n",
    "import warnings\n",
    "import statsmodels.api as sm\n",
    "from itertools import combinations\n",
    "import random\n",
    "from sklearn.exceptions import ConvergenceWarning\n"
   ]
  },
  {
   "cell_type": "markdown",
   "id": "79847fe1",
   "metadata": {},
   "source": [
    "The next part was too complex to run on our simple computers and we went to the lab to run us. We were not given much time in the lab, so we ran this part only in a separate notebook. Please turn to the other notebook."
   ]
  },
  {
   "cell_type": "markdown",
   "id": "3d09587a",
   "metadata": {},
   "source": [
    "# Import the data"
   ]
  },
  {
   "cell_type": "code",
   "execution_count": 10,
   "id": "f9ee0df2",
   "metadata": {},
   "outputs": [],
   "source": [
    "file_path = \"/Users/tomsaacks/Desktop/שנה ב/סמסטר ב/פרויקט מבוסס אנליטיקה/step4/DATA/data.csv\"\n",
    "Data_Regression = pd.read_csv(file_path)\n",
    "Data_Regression.drop(['id','term','int_rate','issue_d','yield_yearly_1','is_default?',\"yield_over\"], axis=1, inplace=True)"
   ]
  },
  {
   "cell_type": "code",
   "execution_count": 11,
   "id": "6794abe1",
   "metadata": {},
   "outputs": [],
   "source": [
    "Data_Regression['fico_mean']=(Data_Regression['fico_range_high']+Data_Regression['fico_range_low'])/2\n",
    "Data_Regression.drop(['fico_range_high','fico_range_low'], axis=1, inplace=True)"
   ]
  },
  {
   "cell_type": "code",
   "execution_count": 12,
   "id": "5e1bb28e",
   "metadata": {},
   "outputs": [
    {
     "name": "stdout",
     "output_type": "stream",
     "text": [
      "False\n"
     ]
    }
   ],
   "source": [
    "# Replace infinite values with NaN\n",
    "Data_Regression.replace([np.inf, -np.inf], np.nan, inplace=True)\n",
    "\n",
    "# Drop rows with NaN values\n",
    "Data_Regression.dropna(inplace=True)\n",
    "\n",
    "# Check if any infinite values remain\n",
    "any_inf = Data_Regression.isin([np.inf, -np.inf]).any().any()\n",
    "print(any_inf)"
   ]
  },
  {
   "cell_type": "code",
   "execution_count": 13,
   "id": "3a236014",
   "metadata": {},
   "outputs": [],
   "source": [
    "#splitting the data into train and test datasets, when 80% for train and 20% for test dataset + another splitting \n",
    "#for the fine tuning step (later on)\n",
    "y = Data_Regression[\"yield_2\"]  # target variable\n",
    "X = Data_Regression.drop(\"yield_2\", axis=1)\n"
   ]
  },
  {
   "cell_type": "code",
   "execution_count": 15,
   "id": "00bf7355",
   "metadata": {},
   "outputs": [],
   "source": [
    "# Splitting the data into train and test datasets, with 80% for train and 20% for the test dataset\n",
    "X_train, X_test, y_train, y_test = train_test_split(X, y, test_size=0.3, random_state=0)\n",
    "\n",
    "\n",
    "scaler_robust = RobustScaler()\n",
    "X_train_scaled = scaler_robust.fit_transform(X_train)\n",
    "X_test_scaled = scaler_robust.transform(X_test)\n",
    "\n",
    "\n"
   ]
  },
  {
   "cell_type": "markdown",
   "id": "8fed159c",
   "metadata": {},
   "source": [
    "# best model from last time"
   ]
  },
  {
   "cell_type": "code",
   "execution_count": 7,
   "id": "015d14fa",
   "metadata": {
    "scrolled": true
   },
   "outputs": [
    {
     "name": "stdout",
     "output_type": "stream",
     "text": [
      "          Model_Name       MSE  R2_Score\n",
      "0  Linear Regression  0.007097  0.023497\n"
     ]
    },
    {
     "data": {
      "image/png": "[encoded data removed]",
      "text/plain": [
       "<Figure size 576x288 with 1 Axes>"
      ]
     },
     "metadata": {
      "needs_background": "light"
     },
     "output_type": "display_data"
    },
    {
     "name": "stdout",
     "output_type": "stream",
     "text": [
      "                         Model_Name       MSE  R2_Score\n",
      "0  Polynomial Regression (degree=2)  0.007063  0.027427\n"
     ]
    }
   ],
   "source": [
    "\n",
    "# Assuming the necessary data is already loaded and split into X_train, X_test, y_train, y_test\n",
    "\n",
    "def cross_validate_linear_regression(X, y, cv=10):\n",
    "    \"\"\"\n",
    "    Perform cross-validation on Linear Regression using negative mean squared error (MSE) as the scoring metric.\n",
    "\n",
    "    Args:\n",
    "        X (pandas.DataFrame): The input feature data.\n",
    "        y (pandas.Series): The target variable.\n",
    "        cv (int, optional): The number of cross-validation folds. Defaults to 10.\n",
    "\n",
    "    Returns:\n",
    "        pandas.DataFrame: The model performance metrics for each fold.\n",
    "\n",
    "    \"\"\"\n",
    "    LR = LinearRegression()\n",
    "    kf = KFold(n_splits=cv, shuffle=True, random_state=42)\n",
    "\n",
    "    mse_scores = cross_val_score(LR, X, y, scoring='neg_mean_squared_error', cv=kf)\n",
    "    r2_scores = cross_val_score(LR, X, y, scoring='r2', cv=kf)\n",
    "\n",
    "    mse_scores = -mse_scores\n",
    "    avg_mse = np.mean(mse_scores)\n",
    "    avg_r2 = np.mean(r2_scores)\n",
    "\n",
    "    Model_perf = pd.DataFrame(columns=['Model_Name','MSE','R2_Score'])\n",
    "    Model_perf.loc[len(Model_perf)] = ['Linear Regression', avg_mse, avg_r2]\n",
    "\n",
    "    return Model_perf\n",
    "\n",
    "def perform_polynomial_regression(X_train, X_test, y_train, y_test):\n",
    "    \"\"\"\n",
    "    Perform polynomial regression with degree 2 and evaluate the model performance.\n",
    "\n",
    "    Args:\n",
    "        X_train (pandas.DataFrame): The input training feature data.\n",
    "        X_test (pandas.DataFrame): The input test feature data.\n",
    "        y_train (pandas.Series): The training target variable.\n",
    "        y_test (pandas.Series): The test target variable.\n",
    "\n",
    "    Returns:\n",
    "        pandas.DataFrame: The model performance metrics.\n",
    "\n",
    "    \"\"\"\n",
    "    Model_perf = pd.DataFrame(columns=['Model_Name', 'MSE', 'R2_Score'])\n",
    "\n",
    "    # Create a PolynomialFeatures object with degree 2\n",
    "    poly = PolynomialFeatures(degree=2)\n",
    "\n",
    "    # Transform the features into polynomial features\n",
    "    X_train_poly = poly.fit_transform(X_train)\n",
    "    X_test_poly = poly.transform(X_test)\n",
    "\n",
    "    # Fit the polynomial regression model\n",
    "    poly_LR = LinearRegression()\n",
    "    poly_LR.fit(X_train_poly, y_train)\n",
    "\n",
    "    # Get the predictions for the test data\n",
    "    y_pred_poly = poly_LR.predict(X_test_poly)\n",
    "\n",
    "    # Calculate the MSE and R2 score\n",
    "    poly_mse = mean_squared_error(y_test, y_pred_poly)\n",
    "    poly_r2 = r2_score(y_test, y_pred_poly)\n",
    "\n",
    "    # Append the results to the DataFrame\n",
    "    Model_perf.loc[len(Model_perf)] = ['Polynomial Regression (degree=2)', poly_mse, poly_r2]\n",
    "\n",
    "    # Create a DataFrame for the predictions\n",
    "    poly_predictions_df = pd.DataFrame(y_pred_poly, columns=['Prediction'], index=X_test.index)\n",
    "\n",
    "    # Concatenate the predictions with the test data\n",
    "    poly_result_df = pd.concat([X_test, poly_predictions_df, y_test], axis=1)\n",
    "\n",
    "    # Plot the cumulative loan amount vs. yield for the polynomial regression model\n",
    "    poly_result_df = poly_result_df.sort_values(by='Prediction', ascending=False)\n",
    "    cumulative_loan_amnt = poly_result_df['loan_amnt'].cumsum()\n",
    "    weighted_yield_yearly_1 = (poly_result_df['yield_2'] * poly_result_df['loan_amnt']).cumsum() / cumulative_loan_amnt\n",
    "    weighted_yield = (poly_result_df['Prediction'] * poly_result_df['loan_amnt']).cumsum() / cumulative_loan_amnt\n",
    "\n",
    "    plt.figure(figsize=(8, 4))\n",
    "    plt.plot(cumulative_loan_amnt, weighted_yield, label='Prediction')\n",
    "    plt.plot(cumulative_loan_amnt, weighted_yield_yearly_1, label='Real Yield')\n",
    "    plt.xlabel('Cumulative Loan Amount')\n",
    "    plt.ylabel('Yield')\n",
    "    plt.title('Polynomial Regression (degree=2): Cumulative Loan Amount vs. Yield')\n",
    "    plt.legend()\n",
    "    plt.show()\n",
    "\n",
    "    return Model_perf\n",
    "\n",
    "# Cross-validation for Linear Regression\n",
    "model_performance = cross_validate_linear_regression(X_train, y_train)\n",
    "print(model_performance)\n",
    "\n",
    "# Perform polynomial regression for degree 2\n",
    "poly_model_performance = perform_polynomial_regression(X_train, X_test, y_train, y_test)\n",
    "print(poly_model_performance)\n"
   ]
  },
  {
   "cell_type": "code",
   "execution_count": null,
   "id": "3812a34e",
   "metadata": {},
   "outputs": [],
   "source": [
    "# Splitting the data into train and test datasets, with 80% for train and 20% for the test dataset\n",
    "X_train, X_test, y_train, y_test = train_test_split(X, y, test_size=0.3, random_state=0)\n",
    "\n",
    "\n",
    "scaler_robust = RobustScaler()\n",
    "X_train_scaled = scaler_robust.fit_transform(X_train)\n",
    "X_test_scaled = scaler_robust.transform(X_test)"
   ]
  },
  {
   "cell_type": "code",
   "execution_count": 21,
   "id": "7a5365c2",
   "metadata": {},
   "outputs": [
    {
     "name": "stdout",
     "output_type": "stream",
     "text": [
      "Best MSE:  0.007219666418345781 \tAdded feature:  19\n",
      "Best MSE:  0.007198053809248939 \tAdded feature:  57\n",
      "Best MSE:  0.007176307786516389 \tAdded feature:  0\n",
      "Best MSE:  0.0071554055024496575 \tAdded feature:  66\n",
      "Best MSE:  0.007146646465775834 \tAdded feature:  54\n",
      "Best MSE:  0.007139501388574526 \tAdded feature:  60\n",
      "Best MSE:  0.007132757794811731 \tAdded feature:  36\n",
      "Best MSE:  0.007128808897712219 \tAdded feature:  2\n",
      "Best MSE:  0.007125200023792009 \tAdded feature:  21\n",
      "Best MSE:  0.007122241448225023 \tAdded feature:  41\n",
      "Best MSE:  0.007118525935979718 \tAdded feature:  37\n",
      "Best MSE:  0.007116195911847807 \tAdded feature:  17\n",
      "Best MSE:  0.0071141841727651025 \tAdded feature:  26\n",
      "Best MSE:  0.00711164522492613 \tAdded feature:  32\n",
      "Best MSE:  0.007109763358626585 \tAdded feature:  59\n",
      "Best MSE:  0.007108176629997064 \tAdded feature:  3\n",
      "Best MSE:  0.007106860227743281 \tAdded feature:  40\n",
      "Best MSE:  0.007105716244787283 \tAdded feature:  13\n",
      "Best MSE:  0.007104496681873967 \tAdded feature:  33\n",
      "Best MSE:  0.0071034824061238285 \tAdded feature:  11\n",
      "Best MSE:  0.00710270040807611 \tAdded feature:  35\n",
      "Best MSE:  0.007101919220509391 \tAdded feature:  56\n",
      "Best MSE:  0.007101222649771645 \tAdded feature:  30\n",
      "Best MSE:  0.0071005648321531495 \tAdded feature:  22\n",
      "Best MSE:  0.007099909245682996 \tAdded feature:  47\n",
      "Best MSE:  0.007098961551492004 \tAdded feature:  65\n",
      "Best MSE:  0.007098361437076527 \tAdded feature:  34\n",
      "Best MSE:  0.007097780103222142 \tAdded feature:  55\n",
      "Best MSE:  0.007097087808086141 \tAdded feature:  69\n",
      "Best MSE:  0.007096469593576334 \tAdded feature:  58\n"
     ]
    }
   ],
   "source": [
    "def forward_selection(data, target, model,improvement_threshold=0.0001):\n",
    "    initial_features = list(range(data.shape[1]))\n",
    "    best_features = []\n",
    "    \n",
    "    while len(initial_features) > 0:\n",
    "        remaining_features = list(set(initial_features) - set(best_features))\n",
    "        new_mse = np.inf\n",
    "        for new_column in remaining_features:\n",
    "            model.fit(data[:, best_features+[new_column]], target)\n",
    "            y_pred = model.predict(data[:, best_features+[new_column]])\n",
    "            mse = mean_squared_error(target, y_pred)\n",
    "            if mse < new_mse:\n",
    "                if len(best_features) >= 30:\n",
    "                    return best_features\n",
    "                new_mse = mse\n",
    "                best_column = new_column\n",
    "        best_features.append(best_column)\n",
    "        print('Best MSE: ', new_mse, '\\tAdded feature: ', best_column)\n",
    "        if np.isinf(new_mse):\n",
    "            return best_features\n",
    "    return best_features\n",
    "\n",
    "model = LinearRegression()\n",
    "data_best_features = forward_selection(X_train_scaled, y_train, model,improvement_threshold=0.0001)\n"
   ]
  },
  {
   "cell_type": "code",
   "execution_count": 28,
   "id": "6b199577",
   "metadata": {},
   "outputs": [],
   "source": [
    "data_best_features_names = X.columns[data_best_features]\n",
    "X_train_best_features = X[data_best_features_names]\n"
   ]
  },
  {
   "cell_type": "code",
   "execution_count": 29,
   "id": "76e1b8ef",
   "metadata": {},
   "outputs": [],
   "source": [
    "# Splitting the data into train and test datasets, with 80% for train and 20% for the test dataset\n",
    "X_train, X_test, y_train, y_test = train_test_split(X, y, test_size=0.3, random_state=0)\n",
    "\n",
    "\n",
    "scaler_robust = RobustScaler()\n",
    "bX_train_scaled = scaler_robust.fit_transform(X_train)\n",
    "X_test_scaled = scaler_robust.transform(X_test)"
   ]
  },
  {
   "cell_type": "code",
   "execution_count": 76,
   "id": "9cff17c5",
   "metadata": {
    "scrolled": true
   },
   "outputs": [],
   "source": [
    "\n",
    "def perform_polynomial_regression(X_train, X_test, y_train, y_test, degrees):\n",
    "    \"\"\"\n",
    "    Perform polynomial regression for different degrees and evaluate the model performance with Ridge and Lasso regularization.\n",
    "    Find the best alpha for each regularization technique.\n",
    "\n",
    "    Args:\n",
    "        X_train (pandas.DataFrame): The input training feature data.\n",
    "        X_test (pandas.DataFrame): The input test feature data.\n",
    "        y_train (pandas.Series): The training target variable.\n",
    "        y_test (pandas.Series): The test target variable.\n",
    "        degrees (list): List of degrees for polynomial regression.\n",
    "\n",
    "    Returns:\n",
    "        pandas.DataFrame: The model performance metrics for each polynomial degree and regularization technique.\n",
    "\n",
    "    \"\"\"\n",
    "    Model_perf = pd.DataFrame(columns=['Model_Name', 'MSE', 'R2_Score', 'Regularization', 'Alpha'])\n",
    "\n",
    "    for degree in degrees:\n",
    "        # Create a PolynomialFeatures object with the specified degree\n",
    "        poly = PolynomialFeatures(degree=degree)\n",
    "        \n",
    "        # Transform the features into polynomial features\n",
    "        X_train_poly = poly.fit_transform(X_train)\n",
    "        X_test_poly = poly.transform(X_test)\n",
    "\n",
    "        # Ridge regularization\n",
    "        ridge = Ridge()\n",
    "        ridge_param_grid = {'alpha': [ 0.01, 0.1, 1, 10]}  # Define the alpha values to be tested\n",
    "        ridge_grid_search = GridSearchCV(ridge, ridge_param_grid, scoring='neg_mean_squared_error', cv=5)\n",
    "        ridge_grid_search.fit(X_train_poly, y_train)\n",
    "\n",
    "        ridge_best_alpha = ridge_grid_search.best_params_['alpha']\n",
    "        ridge_best_model = ridge_grid_search.best_estimator_\n",
    "        y_pred_ridge = ridge_best_model.predict(X_test_poly)\n",
    "        ridge_mse = mean_squared_error(y_test, y_pred_ridge)\n",
    "        ridge_r2 = r2_score(y_test, y_pred_ridge)\n",
    "        Model_perf.loc[len(Model_perf)] = [f'Polynomial Regression (degree={degree})', ridge_mse, ridge_r2,\n",
    "                                           'Ridge', ridge_best_alpha]\n",
    "\n",
    "        # Lasso regularization\n",
    "        lasso = Lasso()\n",
    "        lasso_param_grid = {'alpha': [ 0.01, 0.1, 1, 10]}  # Define the alpha values to be tested\n",
    "        lasso_grid_search = GridSearchCV(lasso, lasso_param_grid, scoring='neg_mean_squared_error', cv=5)\n",
    "        lasso_grid_search.fit(X_train_poly, y_train)\n",
    "\n",
    "        lasso_best_alpha = lasso_grid_search.best_params_['alpha']\n",
    "        lasso_best_model = lasso_grid_search.best_estimator_\n",
    "        y_pred_lasso = lasso_best_model.predict(X_test_poly)\n",
    "        lasso_mse = mean_squared_error(y_test, y_pred_lasso)\n",
    "        lasso_r2 = r2_score(y_test, y_pred_lasso)\n",
    "        Model_perf.loc[len(Model_perf)] = [f'Polynomial Regression (degree={degree})', lasso_mse, lasso_r2,\n",
    "                                           'Lasso', lasso_best_alpha]\n",
    "\n",
    "    return Model_perf\n",
    "\n",
    "# Perform polynomial regression for different degrees and evaluate with Ridge and Lasso regularization\n",
    "degrees = [2]\n",
    "poly_model_performance = perform_polynomial_regression(X_train, X_test, y_train, y_test, degrees)\n"
   ]
  },
  {
   "cell_type": "code",
   "execution_count": 77,
   "id": "351f93c1",
   "metadata": {},
   "outputs": [
    {
     "name": "stdout",
     "output_type": "stream",
     "text": [
      "                         Model_Name  MSE  R2_Score Regularization  Alpha\n",
      "0  Polynomial Regression (degree=2) 0.01     -0.01          Ridge     10\n",
      "1  Polynomial Regression (degree=2) 0.01     -0.00          Lasso     10\n"
     ]
    }
   ],
   "source": [
    "print(poly_model_performance)"
   ]
  },
  {
   "cell_type": "code",
   "execution_count": 78,
   "id": "c4c58416",
   "metadata": {},
   "outputs": [],
   "source": [
    "\n",
    "\n",
    "def perform_polynomial_regression(X_train, X_test, y_train, y_test, degrees):\n",
    "    \"\"\"\n",
    "    Perform polynomial regression for different degrees and evaluate the model performance with Ridge and Lasso regularization.\n",
    "    Find the best alpha for each regularization technique.\n",
    "\n",
    "    Args:\n",
    "        X_train (pandas.DataFrame): The input training feature data.\n",
    "        X_test (pandas.DataFrame): The input test feature data.\n",
    "        y_train (pandas.Series): The training target variable.\n",
    "        y_test (pandas.Series): The test target variable.\n",
    "        degrees (list): List of degrees for polynomial regression.\n",
    "\n",
    "    Returns:\n",
    "        pandas.DataFrame: The model performance metrics for each polynomial degree and regularization technique.\n",
    "\n",
    "    \"\"\"\n",
    "    Model_perf = pd.DataFrame(columns=['Model_Name', 'MSE', 'R2_Score', 'Regularization', 'Alpha'])\n",
    "\n",
    "    for degree in degrees:\n",
    "        # Create a PolynomialFeatures object with the specified degree\n",
    "        poly = PolynomialFeatures(degree=degree)\n",
    "        \n",
    "        # Transform the features into polynomial features\n",
    "        X_train_poly = poly.fit_transform(X_train)\n",
    "        X_test_poly = poly.transform(X_test)\n",
    "\n",
    "        # Ridge regularization\n",
    "        ridge = Ridge()\n",
    "        ridge_param_grid = {'alpha': [ 0.01, 0.1, 1, 10]}  # Define the alpha values to be tested\n",
    "        ridge_grid_search = GridSearchCV(ridge, ridge_param_grid, scoring='neg_mean_squared_error', cv=5)\n",
    "        ridge_grid_search.fit(X_train_poly, y_train)\n",
    "\n",
    "        ridge_best_alpha = ridge_grid_search.best_params_['alpha']\n",
    "        ridge_best_model = ridge_grid_search.best_estimator_\n",
    "        y_pred_ridge = ridge_best_model.predict(X_test_poly)\n",
    "        ridge_mse = mean_squared_error(y_test, y_pred_ridge)\n",
    "        ridge_r2 = r2_score(y_test, y_pred_ridge)\n",
    "        Model_perf.loc[len(Model_perf)] = [f'Polynomial Regression (degree={degree})', ridge_mse, ridge_r2,\n",
    "                                           'Ridge', ridge_best_alpha]\n",
    "\n",
    "        # Lasso regularization\n",
    "        lasso = Lasso()\n",
    "        lasso_param_grid = {'alpha': [ 0.01, 0.1, 1, 10]}  # Define the alpha values to be tested\n",
    "        lasso_grid_search = GridSearchCV(lasso, lasso_param_grid, scoring='neg_mean_squared_error', cv=5)\n",
    "        lasso_grid_search.fit(X_train_poly, y_train)\n",
    "\n",
    "        lasso_best_alpha = lasso_grid_search.best_params_['alpha']\n",
    "        lasso_best_model = lasso_grid_search.best_estimator_\n",
    "        y_pred_lasso = lasso_best_model.predict(X_test_poly)\n",
    "        lasso_mse = mean_squared_error(y_test, y_pred_lasso)\n",
    "        lasso_r2 = r2_score(y_test, y_pred_lasso)\n",
    "        Model_perf.loc[len(Model_perf)] = [f'Polynomial Regression (degree={degree})', lasso_mse, lasso_r2,\n",
    "                                           'Lasso', lasso_best_alpha]\n",
    "\n",
    "    return Model_perf\n",
    "\n",
    "# Perform polynomial regression for different degrees and evaluate with Ridge and Lasso regularization\n",
    "degrees = [2]\n",
    "poly_model_performance = perform_polynomial_regression(X_train, X_test, y_train, y_test, degrees)\n",
    "print(poly_model_performance)\n"
   ]
  },
  {
   "cell_type": "code",
   "execution_count": 79,
   "id": "201c5723",
   "metadata": {},
   "outputs": [
    {
     "name": "stdout",
     "output_type": "stream",
     "text": [
      "                         Model_Name  MSE  R2_Score Regularization  Alpha\n",
      "0  Polynomial Regression (degree=2) 0.01     -0.01          Ridge     10\n",
      "1  Polynomial Regression (degree=2) 0.01     -0.00          Lasso     10\n"
     ]
    }
   ],
   "source": [
    "print(poly_model_performance)\n"
   ]
  },
  {
   "cell_type": "code",
   "execution_count": 80,
   "id": "47c56912",
   "metadata": {},
   "outputs": [],
   "source": [
    "k = 10  # define the number of folds\n",
    "kf = KFold(n_splits=k, shuffle=True, random_state=42)\n",
    "from sklearn.preprocessing import PolynomialFeatures\n",
    "from sklearn.linear_model import Lasso\n",
    "\n",
    "# Polynomial transformation\n",
    "poly = PolynomialFeatures(degree=2)\n",
    "X_train_poly = poly.fit_transform(X_train)\n",
    "X_test_poly = poly.transform(X_test)\n",
    "\n",
    "# Lasso Regression\n",
    "lasso = Lasso(alpha=0.01)\n",
    "\n",
    "# Cross-validation\n",
    "mse_scores = cross_val_score(lasso, X_train_poly, y_train, scoring='neg_mean_squared_error', cv=kf)\n",
    "r2_scores = cross_val_score(lasso, X_train_poly, y_train, scoring='r2', cv=kf)\n",
    "\n",
    "mse_scores = -mse_scores\n",
    "\n",
    "avg_mse = np.mean(mse_scores)\n",
    "avg_r2 = np.mean(r2_scores)\n",
    "\n",
    "# Updating model performance\n",
    "Model_perf.loc[len(Model_perf)] = ['Polynomial Regression (degree=2) - Lasso alpha=0.01', avg_mse, avg_r2]\n",
    "print(Model_perf)\n",
    "\n",
    "# Fit the model to the training data\n",
    "lasso.fit(X_train_poly, y_train)\n",
    "\n",
    "# Get the predictions for the test data\n",
    "predictions = lasso.predict(X_test_poly)\n",
    "\n",
    "# Create a DataFrame for the predictions\n",
    "predictions_df = pd.DataFrame(predictions, columns=['Prediction'], index=X_test.index)\n",
    "\n",
    "# Concatenate the predictions with the test data\n",
    "result_df = pd.concat([X_test, predictions_df, y_test], axis=1)\n",
    "\n",
    "result_df = result_df.sort_values(by='Prediction', ascending=False)\n",
    "\n",
    "# Calculate the cumulative sum of 'loan_amnt'\n",
    "result_df['cumulative_loan_amnt'] = result_df['loan_amnt'].cumsum()\n",
    "\n",
    "# Calculate the weighted yield using 'theyield_yearly_1'\n",
    "result_df['weighted_yield_yearly_1'] = (result_df['yield_2'] * result_df['loan_amnt']).cumsum() / result_df['cumulative_loan_amnt']\n",
    "\n",
    "# Calculate the weighted yield: multiply 'Prediction' by 'loan_amnt' and divide by the total 'loan_amnt'\n",
    "result_df['weighted_yield'] = (result_df['Prediction'] * result_df['loan_amnt']).cumsum() / result_df['cumulative_loan_amnt']\n",
    "\n",
    "# Create a plot\n",
    "plt.figure(figsize=(10,6))\n",
    "\n",
    "# Plot the weighted yield using 'Prediction'\n",
    "plt.plot(result_df['cumulative_loan_amnt'], result_df['weighted_yield'], label='Prediction')\n",
    "\n"
   ]
  },
  {
   "cell_type": "code",
   "execution_count": 81,
   "id": "d6b9af30",
   "metadata": {},
   "outputs": [
    {
     "data": {
      "image/png": "[encoded data removed]",
      "text/plain": [
       "<Figure size 720x432 with 1 Axes>"
      ]
     },
     "metadata": {
      "needs_background": "light"
     },
     "output_type": "display_data"
    },
    {
     "name": "stdout",
     "output_type": "stream",
     "text": [
      "        Prediction  yield_2  diff\n",
      "191644        0.14     0.08  0.05\n",
      "174483        0.11     0.13 -0.02\n",
      "179231        0.10     0.05  0.05\n",
      "304013        0.09     0.11 -0.02\n",
      "35611         0.09     0.07  0.02\n",
      "...            ...      ...   ...\n",
      "38957        -0.03    -0.03 -0.00\n",
      "147454       -0.04     0.02 -0.06\n",
      "44441        -0.04     0.07 -0.10\n",
      "124246       -0.04     0.07 -0.12\n",
      "232569       -0.05    -0.33  0.28\n",
      "\n",
      "[97170 rows x 3 columns]\n"
     ]
    }
   ],
   "source": [
    "# Create a plot\n",
    "plt.figure(figsize=(10,6))\n",
    "\n",
    "# Plot the weighted yield using 'Prediction'\n",
    "plt.plot(result_df['cumulative_loan_amnt'], result_df['weighted_yield'], label='Prediction')\n",
    "\n",
    "# Plot the weighted yield using 'theyield_yearly_1'\n",
    "plt.plot(result_df['cumulative_loan_amnt'], result_df['weighted_yield_yearly_1'], label='real yield')\n",
    "\n",
    "plt.xlabel('Cumulative Loan Amount')\n",
    "plt.ylabel('Weighted Yield')\n",
    "plt.title('Cumulative Loan Amount vs Weighted Yield')\n",
    "plt.legend()\n",
    "\n",
    "plt.show()\n",
    "\n",
    "# Print table with predictions, actual target and differences\n",
    "result_df['diff'] = result_df['Prediction'] - result_df['yield_2']\n",
    "print(result_df[['Prediction', 'yield_2', 'diff']])\n"
   ]
  },
  {
   "cell_type": "code",
   "execution_count": 57,
   "id": "eddbe01a",
   "metadata": {
    "scrolled": true
   },
   "outputs": [
    {
     "name": "stdout",
     "output_type": "stream",
     "text": [
      "Mean of 'diff': -1.8535593212225408e-06\n",
      "Standard Deviation of 'diff': 0.08528777623813089\n"
     ]
    },
    {
     "data": {
      "image/png": "[encoded data removed]",
      "text/plain": [
       "<Figure size 720x432 with 1 Axes>"
      ]
     },
     "metadata": {
      "needs_background": "light"
     },
     "output_type": "display_data"
    },
    {
     "name": "stdout",
     "output_type": "stream",
     "text": [
      "Descriptive Statistics:\n",
      "count   97170.00\n",
      "mean       -0.00\n",
      "std         0.09\n",
      "min        -0.17\n",
      "25%        -0.05\n",
      "50%        -0.03\n",
      "75%        -0.01\n",
      "max         0.36\n",
      "Name: diff, dtype: float64\n"
     ]
    }
   ],
   "source": [
    "import matplotlib.pyplot as plt\n",
    "import numpy as np\n",
    "\n",
    "# Calculate mean and standard deviation\n",
    "mean_diff = result_df['diff'].mean()\n",
    "std_diff = result_df['diff'].std()\n",
    "\n",
    "print(f\"Mean of 'diff': {mean_diff}\")\n",
    "print(f\"Standard Deviation of 'diff': {std_diff}\")\n",
    "\n",
    "# Plot the distribution\n",
    "plt.figure(figsize=(10,6))\n",
    "plt.hist(result_df['diff'], bins=30, density=True, alpha=0.6, color='g')\n",
    "\n",
    "# Plot the PDF.\n",
    "xmin, xmax = plt.xlim()\n",
    "x = np.linspace(xmin, xmax, 100)\n",
    "p = stats.norm.pdf(x, mean_diff, std_diff)\n",
    "plt.plot(x, p, 'k', linewidth=2)\n",
    "\n",
    "plt.title('Distribution of \"diff_of_yield\"')\n",
    "plt.xlabel('diff_of_yield')\n",
    "plt.ylabel('Frequency')\n",
    "plt.show()\n",
    "\n",
    "# Print the descriptive statistics\n",
    "print(\"Descriptive Statistics:\")\n",
    "print(result_df['diff'].describe())\n"
   ]
  },
  {
   "cell_type": "code",
   "execution_count": 40,
   "id": "99f1ec09",
   "metadata": {},
   "outputs": [],
   "source": [
    "pd.set_option('display.float_format', lambda x: '%.2f' % x)\n"
   ]
  },
  {
   "cell_type": "code",
   "execution_count": 42,
   "id": "06c7ee22",
   "metadata": {},
   "outputs": [],
   "source": [
    "# Print table with predictions, actual target and differences\n",
    "result_df['diff_weighted'] = result_df['weighted_yield'] - result_df['weighted_yield_yearly_1']"
   ]
  },
  {
   "cell_type": "code",
   "execution_count": 56,
   "id": "7f8f0152",
   "metadata": {},
   "outputs": [
    {
     "name": "stdout",
     "output_type": "stream",
     "text": [
      "Mean of 'diff_weighted': 0.0054587335295935\n",
      "Standard Deviation of 'diff_weighted': 0.0026440640031357757\n"
     ]
    },
    {
     "data": {
      "image/png": "[encoded data removed]",
      "text/plain": [
       "<Figure size 720x432 with 1 Axes>"
      ]
     },
     "metadata": {
      "needs_background": "light"
     },
     "output_type": "display_data"
    },
    {
     "name": "stdout",
     "output_type": "stream",
     "text": [
      "Descriptive Statistics:\n",
      "count   97170.00\n",
      "mean       -0.00\n",
      "std         0.09\n",
      "min        -0.17\n",
      "25%        -0.05\n",
      "50%        -0.03\n",
      "75%        -0.01\n",
      "max         0.36\n",
      "Name: diff, dtype: float64\n"
     ]
    }
   ],
   "source": [
    "import matplotlib.pyplot as plt\n",
    "import numpy as np\n",
    "\n",
    "# Calculate mean and standard deviation\n",
    "mean_diff = result_df['diff_weighted'].mean()\n",
    "std_diff = result_df['diff_weighted'].std()\n",
    "\n",
    "print(f\"Mean of 'diff_weighted': {mean_diff}\")\n",
    "print(f\"Standard Deviation of 'diff_weighted': {std_diff}\")\n",
    "\n",
    "# Plot the distribution\n",
    "plt.figure(figsize=(10,6))\n",
    "plt.hist(result_df['diff_weighted'], bins=30, density=True, alpha=0.6, color='g')\n",
    "\n",
    "# Plot the PDF.\n",
    "xmin, xmax = plt.xlim()\n",
    "x = np.linspace(xmin, xmax, 100)\n",
    "p = stats.norm.pdf(x, mean_diff, std_diff)\n",
    "plt.plot(x, p, 'k', linewidth=2)\n",
    "\n",
    "plt.title('Distribution of \"diff_weighted_yield\"')\n",
    "plt.xlabel('diff_weighted_yield')\n",
    "plt.ylabel('Frequency')\n",
    "plt.show()\n",
    "\n",
    "# Print the descriptive statistics\n",
    "print(\"Descriptive Statistics:\")\n",
    "print(result_df['diff'].describe())\n"
   ]
  },
  {
   "cell_type": "code",
   "execution_count": 49,
   "id": "56640e56",
   "metadata": {},
   "outputs": [
    {
     "data": {
      "text/plain": [
       "97170"
      ]
     },
     "execution_count": 49,
     "metadata": {},
     "output_type": "execute_result"
    }
   ],
   "source": [
    "len(result_df)"
   ]
  },
  {
   "cell_type": "code",
   "execution_count": 50,
   "id": "ab823a4a",
   "metadata": {},
   "outputs": [
    {
     "name": "stdout",
     "output_type": "stream",
     "text": [
      "                              cumulative_loan_amnt  weighted_yield   \n",
      "bins                                                                 \n",
      "(-1348433.925, 276721785.0]           146188069.88            0.03  \\\n",
      "(276721785.0, 553408570.0]            415714942.97            0.03   \n",
      "(553408570.0, 830095355.0]            691539810.73            0.02   \n",
      "(830095355.0, 1106782140.0]           966696033.49            0.02   \n",
      "(1106782140.0, 1383468925.0]         1240619382.13            0.02   \n",
      "\n",
      "                              weighted_yield_yearly_1  \n",
      "bins                                                   \n",
      "(-1348433.925, 276721785.0]                      0.02  \n",
      "(276721785.0, 553408570.0]                       0.02  \n",
      "(553408570.0, 830095355.0]                       0.02  \n",
      "(830095355.0, 1106782140.0]                      0.02  \n",
      "(1106782140.0, 1383468925.0]                     0.02  \n"
     ]
    }
   ],
   "source": [
    "# Sort the dataframe\n",
    "result_df = result_df.sort_values(by='cumulative_loan_amnt')\n",
    "\n",
    "# Create bins\n",
    "result_df['bins'] = pd.cut(result_df['cumulative_loan_amnt'], bins=5)\n",
    "\n",
    "# Group by bins and calculate the mean\n",
    "grouped_df = result_df.groupby('bins')[['cumulative_loan_amnt', 'weighted_yield', 'weighted_yield_yearly_1']].mean()\n",
    "\n",
    "print(grouped_df)\n"
   ]
  },
  {
   "cell_type": "code",
   "execution_count": 55,
   "id": "3b2d7538",
   "metadata": {
    "scrolled": true
   },
   "outputs": [
    {
     "name": "stdout",
     "output_type": "stream",
     "text": [
      "        cumulative_loan_amnt  weighted_yield  weighted_yield_yearly_1\n",
      "191644              35000.00            0.14                     0.08\n",
      "193227          295856050.00            0.03                     0.02\n",
      "182226          554453875.00            0.03                     0.02\n",
      "89489           811626650.00            0.02                     0.02\n",
      "180550         1081071725.00            0.02                     0.02\n"
     ]
    }
   ],
   "source": [
    "print(result_df_5_parts[['cumulative_loan_amnt', 'weighted_yield', 'weighted_yield_yearly_1']][::2])\n"
   ]
  },
  {
   "cell_type": "code",
   "execution_count": 58,
   "id": "b4d191b2",
   "metadata": {},
   "outputs": [],
   "source": [
    "import scipy.stats as stats\n",
    "import matplotlib.pyplot as plt\n",
    "import numpy as np\n",
    "\n",
    "def analyze_yield_difference(result_df):\n",
    "    \"\"\"\n",
    "    Analyze the difference in yield predictions and provide descriptive statistics, a distribution plot, and statistical measures.\n",
    "\n",
    "    Args:\n",
    "        result_df (pandas.DataFrame): DataFrame containing the yield predictions, actual target values, and differences.\n",
    "\n",
    "    Returns:\n",
    "        None\n",
    "    \"\"\"\n",
    "\n",
    "    # Calculate mean and standard deviation of the difference\n",
    "    mean_diff = result_df['diff'].mean()\n",
    "    std_diff = result_df['diff'].std()\n",
    "\n",
    "    # Print mean and standard deviation\n",
    "    print(f\"Mean of 'diff': {mean_diff}\")\n",
    "    print(f\"Standard Deviation of 'diff': {std_diff}\")\n",
    "\n",
    "    # Plot the distribution\n",
    "    plt.figure(figsize=(10,6))\n",
    "    plt.hist(result_df['diff'], bins=30, density=True, alpha=0.6, color='g')\n",
    "\n",
    "    # Plot the PDF.\n",
    "    xmin, xmax = plt.xlim()\n",
    "    x = np.linspace(xmin, xmax, 100)\n",
    "    p = stats.norm.pdf(x, mean_diff, std_diff)\n",
    "    plt.plot(x, p, 'k', linewidth=2)\n",
    "\n",
    "    plt.title('Distribution of \"diff_of_yield\"')\n",
    "    plt.xlabel('diff_of_yield')\n",
    "    plt.ylabel('Frequency')\n",
    "    plt.show()\n",
    "\n",
    "    # Print descriptive statistics\n",
    "    print(\"Descriptive Statistics:\")\n",
    "    print(result_df['diff'].describe())\n",
    "analyze_yield_difference(result_df)"
   ]
  },
  {
   "cell_type": "code",
   "execution_count": 59,
   "id": "b8551412",
   "metadata": {
    "scrolled": true
   },
   "outputs": [
    {
     "name": "stdout",
     "output_type": "stream",
     "text": [
      "Mean of 'diff': -1.8535593212225408e-06\n",
      "Standard Deviation of 'diff': 0.08528777623813089\n"
     ]
    },
    {
     "data": {
      "image/png": "[encoded data removed]",
      "text/plain": [
       "<Figure size 720x432 with 1 Axes>"
      ]
     },
     "metadata": {
      "needs_background": "light"
     },
     "output_type": "display_data"
    },
    {
     "name": "stdout",
     "output_type": "stream",
     "text": [
      "Descriptive Statistics:\n",
      "count   97170.00\n",
      "mean       -0.00\n",
      "std         0.09\n",
      "min        -0.17\n",
      "25%        -0.05\n",
      "50%        -0.03\n",
      "75%        -0.01\n",
      "max         0.36\n",
      "Name: diff, dtype: float64\n"
     ]
    }
   ],
   "source": [
    "analyze_yield_difference(result_df)"
   ]
  },
  {
   "cell_type": "code",
   "execution_count": 61,
   "id": "bbd2e6c1",
   "metadata": {},
   "outputs": [
    {
     "name": "stdout",
     "output_type": "stream",
     "text": [
      "Mean of 'diff_weighted': 0.0054587335295935\n",
      "Standard Deviation of 'diff_weighted': 0.0026440640031357757\n"
     ]
    },
    {
     "data": {
      "image/png": "[encoded data removed]",
      "text/plain": [
       "<Figure size 720x432 with 1 Axes>"
      ]
     },
     "metadata": {
      "needs_background": "light"
     },
     "output_type": "display_data"
    },
    {
     "name": "stdout",
     "output_type": "stream",
     "text": [
      "Descriptive Statistics:\n",
      "count   97170.00\n",
      "mean        0.01\n",
      "std         0.00\n",
      "min         0.00\n",
      "25%         0.00\n",
      "50%         0.00\n",
      "75%         0.01\n",
      "max         0.06\n",
      "Name: diff_weighted, dtype: float64\n"
     ]
    }
   ],
   "source": [
    "import scipy.stats as stats\n",
    "import matplotlib.pyplot as plt\n",
    "import numpy as np\n",
    "\n",
    "def analyze_weighted_yield_difference(result_df):\n",
    "    \"\"\"\n",
    "    Analyze the difference in weighted yield predictions and provide descriptive statistics, a distribution plot, and statistical measures.\n",
    "\n",
    "    Args:\n",
    "        result_df (pandas.DataFrame): DataFrame containing the weighted yield predictions, actual target values, and differences.\n",
    "\n",
    "    Returns:\n",
    "        None\n",
    "    \"\"\"\n",
    "\n",
    "    # Calculate mean and standard deviation of the weighted yield difference\n",
    "    mean_diff = result_df['diff_weighted'].mean()\n",
    "    std_diff = result_df['diff_weighted'].std()\n",
    "\n",
    "    # Print mean and standard deviation\n",
    "    print(f\"Mean of 'diff_weighted': {mean_diff}\")\n",
    "    print(f\"Standard Deviation of 'diff_weighted': {std_diff}\")\n",
    "\n",
    "    # Plot the distribution\n",
    "    plt.figure(figsize=(10,6))\n",
    "    plt.hist(result_df['diff_weighted'], bins=30, density=True, alpha=0.6, color='g')\n",
    "\n",
    "    # Plot the PDF.\n",
    "    xmin, xmax = plt.xlim()\n",
    "    x = np.linspace(xmin, xmax, 100)\n",
    "    p = stats.norm.pdf(x, mean_diff, std_diff)\n",
    "    plt.plot(x, p, 'k', linewidth=2)\n",
    "\n",
    "    plt.title('Distribution of \"diff_weighted_yield\"')\n",
    "    plt.xlabel('diff_weighted_yield')\n",
    "    plt.ylabel('Frequency')\n",
    "    plt.show()\n",
    "\n",
    "    # Print descriptive statistics\n",
    "    print(\"Descriptive Statistics:\")\n",
    "    print(result_df['diff_weighted'].describe())\n",
    "\n",
    "analyze_weighted_yield_difference(result_df)\n"
   ]
  },
  {
   "cell_type": "code",
   "execution_count": 71,
   "id": "345acb59",
   "metadata": {},
   "outputs": [
    {
     "name": "stdout",
     "output_type": "stream",
     "text": [
      "        Cumulative Loan Amount  predicted_weighted_yield  real_weighted_yield   \n",
      "191644                35000.00                      0.14                 0.08  \\\n",
      "193227            295856050.00                      0.03                 0.02   \n",
      "182226            554453875.00                      0.03                 0.02   \n",
      "89489             811626650.00                      0.02                 0.02   \n",
      "180550           1081071725.00                      0.02                 0.02   \n",
      "\n",
      "        Difference in Weighted Yield  \n",
      "191644                          0.05  \n",
      "193227                          0.01  \n",
      "182226                          0.01  \n",
      "89489                           0.00  \n",
      "180550                          0.00  \n"
     ]
    }
   ],
   "source": [
    "# Sort the dataframe\n",
    "result_df = result_df.sort_values(by='cumulative_loan_amnt')\n",
    "\n",
    "# Get the number of rows in each part\n",
    "n = len(result_df) // 5\n",
    "\n",
    "# Get the first and last row from each part\n",
    "rows = [result_df.iloc[i * n: (i + 1) * n].iloc[[0, -1]] for i in range(5)]\n",
    "\n",
    "# Concatenate the dataframes\n",
    "result_df_5_parts = pd.concat(rows)\n",
    "\n",
    "# Rename columns\n",
    "result_df_5_parts = result_df_5_parts.rename(columns={'cumulative_loan_amnt': 'Cumulative Loan Amount',\n",
    "                                                      'weighted_yield': 'predicted_weighted_yield',\n",
    "                                                      'weighted_yield_yearly_1': 'real_weighted_yield',\n",
    "                                                      'diff_weighted': 'Difference in Weighted Yield'})\n",
    "\n",
    "# Print every alternate row with selected columns\n",
    "final_result_df_5_parts = result_df_5_parts[['Cumulative Loan Amount',\n",
    "                                             'predicted_weighted_yield',\n",
    "                                             'real_weighted_yield',\n",
    "                                             'Difference in Weighted Yield']][::2]\n",
    "print(final_result_df_5_parts)\n"
   ]
  },
  {
   "cell_type": "code",
   "execution_count": null,
   "id": "51b35459",
   "metadata": {},
   "outputs": [],
   "source": []
  }
 ],
 "metadata": {
  "kernelspec": {
   "display_name": "Python 3 (ipykernel)",
   "language": "python",
   "name": "python3"
  },
  "language_info": {
   "codemirror_mode": {
    "name": "ipython",
    "version": 3
   },
   "file_extension": ".py",
   "mimetype": "text/x-python",
   "name": "python",
   "nbconvert_exporter": "python",
   "pygments_lexer": "ipython3",
   "version": "3.9.12"
  }
 },
 "nbformat": 4,
 "nbformat_minor": 5
}
